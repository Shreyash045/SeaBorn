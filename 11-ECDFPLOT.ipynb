{
 "cells": [
  {
   "cell_type": "markdown",
   "id": "f1e24929",
   "metadata": {
    "id": "f1e24929"
   },
   "source": [
    "IMPORT DATA SET"
   ]
  },
  {
   "cell_type": "code",
   "execution_count": 1,
   "id": "2fd43cee",
   "metadata": {
    "executionInfo": {
     "elapsed": 998,
     "status": "ok",
     "timestamp": 1639255322945,
     "user": {
      "displayName": "Shreyash Patil",
      "photoUrl": "https://lh3.googleusercontent.com/a/default-user=s64",
      "userId": "02802002707017202305"
     },
     "user_tz": 480
    },
    "id": "2fd43cee"
   },
   "outputs": [],
   "source": [
    "import pandas as pd\n",
    "import numpy as np\n",
    "import matplotlib.pyplot as plt\n",
    "import seaborn as sns\n",
    "import statistics as sts\n",
    "\n",
    "df = pd.read_excel('supermarket_sales.xlsx')\n"
   ]
  },
  {
   "cell_type": "markdown",
   "id": "64e94e36",
   "metadata": {
    "id": "64e94e36"
   },
   "source": [
    "DRAW ECDF PLOT - GROSS INCOME , STAT -COUNT , HUE - GENDER"
   ]
  },
  {
   "cell_type": "code",
   "execution_count": 6,
   "id": "68c87885",
   "metadata": {
    "colab": {
     "base_uri": "https://localhost:8080/",
     "height": 300
    },
    "executionInfo": {
     "elapsed": 450,
     "status": "ok",
     "timestamp": 1639255442502,
     "user": {
      "displayName": "Shreyash Patil",
      "photoUrl": "https://lh3.googleusercontent.com/a/default-user=s64",
      "userId": "02802002707017202305"
     },
     "user_tz": 480
    },
    "id": "68c87885",
    "outputId": "3845ba0e-23a6-40b9-c9b6-f6af14189173"
   },
   "outputs": [
    {
     "data": {
      "text/plain": [
       "<matplotlib.axes._subplots.AxesSubplot at 0x7faa46215590>"
      ]
     },
     "execution_count": 6,
     "metadata": {},
     "output_type": "execute_result"
    },
    {
     "data": {
      "image/png": "[encoded data removed]",
      "text/plain": [
       "<Figure size 432x288 with 1 Axes>"
      ]
     },
     "metadata": {
      "needs_background": "light"
     },
     "output_type": "display_data"
    }
   ],
   "source": [
    "sns.ecdfplot(x='gross income',data=df,hue='Gender',stat='count')"
   ]
  },
  {
   "cell_type": "code",
   "execution_count": null,
   "id": "8e59341f",
   "metadata": {
    "id": "8e59341f"
   },
   "outputs": [],
   "source": []
  }
 ],
 "metadata": {
  "colab": {
   "collapsed_sections": [],
   "name": "11-ECDFPLOT.ipynb",
   "provenance": []
  },
  "kernelspec": {
   "display_name": "Python 3",
   "language": "python",
   "name": "python3"
  },
  "language_info": {
   "codemirror_mode": {
    "name": "ipython",
    "version": 3
   },
   "file_extension": ".py",
   "mimetype": "text/x-python",
   "name": "python",
   "nbconvert_exporter": "python",
   "pygments_lexer": "ipython3",
   "version": "3.8.8"
  }
 },
 "nbformat": 4,
 "nbformat_minor": 5
}

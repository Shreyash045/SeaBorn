{
 "cells": [
  {
   "cell_type": "markdown",
   "id": "9195a266",
   "metadata": {
    "id": "9195a266"
   },
   "source": [
    "IMPORT DATA SET"
   ]
  },
  {
   "cell_type": "code",
   "execution_count": 1,
   "id": "9ec4ceb1",
   "metadata": {
    "colab": {
     "base_uri": "https://localhost:8080/",
     "height": 400
    },
    "executionInfo": {
     "elapsed": 1180,
     "status": "ok",
     "timestamp": 1639316473990,
     "user": {
      "displayName": "Shreyash Patil",
      "photoUrl": "https://lh3.googleusercontent.com/a/default-user=s64",
      "userId": "02802002707017202305"
     },
     "user_tz": -330
    },
    "id": "9ec4ceb1",
    "outputId": "c50134af-a81c-4cb1-a2e2-78444118d6de"
   },
   "outputs": [
    {
     "data": {
      "text/html": [
       "<div>\n",
       "<style scoped>\n",
       "    .dataframe tbody tr th:only-of-type {\n",
       "        vertical-align: middle;\n",
       "    }\n",
       "\n",
       "    .dataframe tbody tr th {\n",
       "        vertical-align: top;\n",
       "    }\n",
       "\n",
       "    .dataframe thead th {\n",
       "        text-align: right;\n",
       "    }\n",
       "</style>\n",
       "<table border=\"1\" class=\"dataframe\">\n",
       "  <thead>\n",
       "    <tr style=\"text-align: right;\">\n",
       "      <th></th>\n",
       "      <th>Invoice ID</th>\n",
       "      <th>Branch</th>\n",
       "      <th>City</th>\n",
       "      <th>Customer type</th>\n",
       "      <th>Gender</th>\n",
       "      <th>Product line</th>\n",
       "      <th>Unit price</th>\n",
       "      <th>Quantity</th>\n",
       "      <th>Tax 5%</th>\n",
       "      <th>Total</th>\n",
       "      <th>Date</th>\n",
       "      <th>Time</th>\n",
       "      <th>Payment</th>\n",
       "      <th>cogs</th>\n",
       "      <th>gross margin percentage</th>\n",
       "      <th>gross income</th>\n",
       "      <th>Rating</th>\n",
       "    </tr>\n",
       "  </thead>\n",
       "  <tbody>\n",
       "    <tr>\n",
       "      <th>0</th>\n",
       "      <td>692-92-5582</td>\n",
       "      <td>B</td>\n",
       "      <td>Mandalay</td>\n",
       "      <td>Member</td>\n",
       "      <td>Female</td>\n",
       "      <td>Food_and_beverages</td>\n",
       "      <td>54.84</td>\n",
       "      <td>3</td>\n",
       "      <td>8.226</td>\n",
       "      <td>172.746</td>\n",
       "      <td>2/20/2019</td>\n",
       "      <td>13:27:00</td>\n",
       "      <td>Credit card</td>\n",
       "      <td>164.52</td>\n",
       "      <td>4.761905</td>\n",
       "      <td>8.226</td>\n",
       "      <td>5.9</td>\n",
       "    </tr>\n",
       "    <tr>\n",
       "      <th>1</th>\n",
       "      <td>351-62-0822</td>\n",
       "      <td>B</td>\n",
       "      <td>Mandalay</td>\n",
       "      <td>Member</td>\n",
       "      <td>Female</td>\n",
       "      <td>Fashion_accessories</td>\n",
       "      <td>14.48</td>\n",
       "      <td>4</td>\n",
       "      <td>2.896</td>\n",
       "      <td>60.816</td>\n",
       "      <td>2019-06-02 00:00:00</td>\n",
       "      <td>18:07:00</td>\n",
       "      <td>Ewallet</td>\n",
       "      <td>57.92</td>\n",
       "      <td>4.761905</td>\n",
       "      <td>2.896</td>\n",
       "      <td>4.5</td>\n",
       "    </tr>\n",
       "    <tr>\n",
       "      <th>2</th>\n",
       "      <td>529-56-3974</td>\n",
       "      <td>B</td>\n",
       "      <td>Mandalay</td>\n",
       "      <td>Member</td>\n",
       "      <td>Male</td>\n",
       "      <td>Electronic_accessories</td>\n",
       "      <td>25.51</td>\n",
       "      <td>4</td>\n",
       "      <td>5.102</td>\n",
       "      <td>107.142</td>\n",
       "      <td>2019-09-03 00:00:00</td>\n",
       "      <td>17:03:00</td>\n",
       "      <td>Cash</td>\n",
       "      <td>102.04</td>\n",
       "      <td>4.761905</td>\n",
       "      <td>5.102</td>\n",
       "      <td>6.8</td>\n",
       "    </tr>\n",
       "    <tr>\n",
       "      <th>3</th>\n",
       "      <td>299-46-1805</td>\n",
       "      <td>B</td>\n",
       "      <td>Mandalay</td>\n",
       "      <td>Member</td>\n",
       "      <td>Female</td>\n",
       "      <td>Sports_and_travel</td>\n",
       "      <td>93.72</td>\n",
       "      <td>6</td>\n",
       "      <td>28.116</td>\n",
       "      <td>590.436</td>\n",
       "      <td>1/15/2019</td>\n",
       "      <td>16:19:00</td>\n",
       "      <td>Cash</td>\n",
       "      <td>562.32</td>\n",
       "      <td>4.761905</td>\n",
       "      <td>28.116</td>\n",
       "      <td>4.5</td>\n",
       "    </tr>\n",
       "    <tr>\n",
       "      <th>4</th>\n",
       "      <td>319-50-3348</td>\n",
       "      <td>B</td>\n",
       "      <td>Mandalay</td>\n",
       "      <td>Normal</td>\n",
       "      <td>Female</td>\n",
       "      <td>Home_and_lifestyle</td>\n",
       "      <td>40.30</td>\n",
       "      <td>2</td>\n",
       "      <td>4.030</td>\n",
       "      <td>84.630</td>\n",
       "      <td>2019-11-03 00:00:00</td>\n",
       "      <td>15:30:00</td>\n",
       "      <td>Ewallet</td>\n",
       "      <td>80.60</td>\n",
       "      <td>4.761905</td>\n",
       "      <td>4.030</td>\n",
       "      <td>4.4</td>\n",
       "    </tr>\n",
       "  </tbody>\n",
       "</table>\n",
       "</div>"
      ],
      "text/plain": [
       "    Invoice ID Branch      City  ... gross margin percentage gross income Rating\n",
       "0  692-92-5582      B  Mandalay  ...                4.761905        8.226    5.9\n",
       "1  351-62-0822      B  Mandalay  ...                4.761905        2.896    4.5\n",
       "2  529-56-3974      B  Mandalay  ...                4.761905        5.102    6.8\n",
       "3  299-46-1805      B  Mandalay  ...                4.761905       28.116    4.5\n",
       "4  319-50-3348      B  Mandalay  ...                4.761905        4.030    4.4\n",
       "\n",
       "[5 rows x 17 columns]"
      ]
     },
     "execution_count": 1,
     "metadata": {},
     "output_type": "execute_result"
    }
   ],
   "source": [
    "import numpy as np\n",
    "import pandas as pd\n",
    "import matplotlib.pyplot as plt\n",
    "import seaborn as sns\n",
    "\n",
    "df = pd.read_excel('supermarket_sales.xlsx')\n",
    "df.head()"
   ]
  },
  {
   "cell_type": "markdown",
   "id": "56bc9a99",
   "metadata": {
    "id": "56bc9a99"
   },
   "source": [
    "Create a basic HISTOGRAM on X or Y axis Using Total"
   ]
  },
  {
   "cell_type": "code",
   "execution_count": 2,
   "id": "5eb82810",
   "metadata": {
    "colab": {
     "base_uri": "https://localhost:8080/",
     "height": 279
    },
    "executionInfo": {
     "elapsed": 483,
     "status": "ok",
     "timestamp": 1639316478128,
     "user": {
      "displayName": "Shreyash Patil",
      "photoUrl": "https://lh3.googleusercontent.com/a/default-user=s64",
      "userId": "02802002707017202305"
     },
     "user_tz": -330
    },
    "id": "5eb82810",
    "outputId": "41353760-a53e-412d-96d7-72caeb9dbcb1"
   },
   "outputs": [
    {
     "data": {
      "image/png": "[encoded data removed]",
      "text/plain": [
       "<Figure size 432x288 with 1 Axes>"
      ]
     },
     "metadata": {
      "needs_background": "light"
     },
     "output_type": "display_data"
    }
   ],
   "source": [
    "sns.histplot(x='Total',data=df)\n",
    "plt.show()"
   ]
  },
  {
   "cell_type": "markdown",
   "id": "81aed23c",
   "metadata": {
    "id": "81aed23c"
   },
   "source": [
    "Change the Bins Width using binwidth arguement"
   ]
  },
  {
   "cell_type": "code",
   "execution_count": 3,
   "id": "15ae29ef",
   "metadata": {
    "colab": {
     "base_uri": "https://localhost:8080/",
     "height": 279
    },
    "executionInfo": {
     "elapsed": 483,
     "status": "ok",
     "timestamp": 1639316481749,
     "user": {
      "displayName": "Shreyash Patil",
      "photoUrl": "https://lh3.googleusercontent.com/a/default-user=s64",
      "userId": "02802002707017202305"
     },
     "user_tz": -330
    },
    "id": "15ae29ef",
    "outputId": "5235810b-9546-4692-efcf-8e9e4c2f562d"
   },
   "outputs": [
    {
     "data": {
      "image/png": "[encoded data removed]",
      "text/plain": [
       "<Figure size 432x288 with 1 Axes>"
      ]
     },
     "metadata": {
      "needs_background": "light"
     },
     "output_type": "display_data"
    }
   ],
   "source": [
    "sns.histplot(x='Total',data=df,binwidth=35)\n",
    "plt.show()"
   ]
  },
  {
   "cell_type": "markdown",
   "id": "97177a6c",
   "metadata": {
    "id": "97177a6c"
   },
   "source": [
    "Change Number of Bins and Interval"
   ]
  },
  {
   "cell_type": "code",
   "execution_count": 4,
   "id": "1652a16c",
   "metadata": {
    "colab": {
     "base_uri": "https://localhost:8080/",
     "height": 279
    },
    "executionInfo": {
     "elapsed": 822,
     "status": "ok",
     "timestamp": 1639316485299,
     "user": {
      "displayName": "Shreyash Patil",
      "photoUrl": "https://lh3.googleusercontent.com/a/default-user=s64",
      "userId": "02802002707017202305"
     },
     "user_tz": -330
    },
    "id": "1652a16c",
    "outputId": "e48d52ad-3f51-4760-9443-2660928d74d6"
   },
   "outputs": [
    {
     "data": {
      "image/png": "[encoded data removed]",
      "text/plain": [
       "<Figure size 432x288 with 1 Axes>"
      ]
     },
     "metadata": {
      "needs_background": "light"
     },
     "output_type": "display_data"
    }
   ],
   "source": [
    "sns.histplot(x='Total',data=df,bins=69)\n",
    "plt.show()"
   ]
  },
  {
   "cell_type": "markdown",
   "id": "327469ea",
   "metadata": {
    "id": "327469ea"
   },
   "source": [
    "Combine with KDE"
   ]
  },
  {
   "cell_type": "code",
   "execution_count": 5,
   "id": "c98e3a21",
   "metadata": {
    "colab": {
     "base_uri": "https://localhost:8080/",
     "height": 279
    },
    "executionInfo": {
     "elapsed": 511,
     "status": "ok",
     "timestamp": 1639316488097,
     "user": {
      "displayName": "Shreyash Patil",
      "photoUrl": "https://lh3.googleusercontent.com/a/default-user=s64",
      "userId": "02802002707017202305"
     },
     "user_tz": -330
    },
    "id": "c98e3a21",
    "outputId": "2277019a-6d49-4816-9552-8cfa0fb6bb98"
   },
   "outputs": [
    {
     "data": {
      "image/png": "[encoded data removed]",
      "text/plain": [
       "<Figure size 432x288 with 1 Axes>"
      ]
     },
     "metadata": {
      "needs_background": "light"
     },
     "output_type": "display_data"
    }
   ],
   "source": [
    "sns.histplot(x='Total',data=df,kde=True)\n",
    "plt.show()"
   ]
  },
  {
   "cell_type": "markdown",
   "id": "0ff9663b",
   "metadata": {
    "id": "0ff9663b"
   },
   "source": [
    "Use a categorical variable in HUE and STACK it using MULTIPLE agruement"
   ]
  },
  {
   "cell_type": "code",
   "execution_count": 6,
   "id": "5fb2ba38",
   "metadata": {
    "colab": {
     "base_uri": "https://localhost:8080/",
     "height": 279
    },
    "executionInfo": {
     "elapsed": 567,
     "status": "ok",
     "timestamp": 1639316491455,
     "user": {
      "displayName": "Shreyash Patil",
      "photoUrl": "https://lh3.googleusercontent.com/a/default-user=s64",
      "userId": "02802002707017202305"
     },
     "user_tz": -330
    },
    "id": "5fb2ba38",
    "outputId": "f489cac1-56e6-4ae9-bbd2-5a874c606cf3"
   },
   "outputs": [
    {
     "data": {
      "image/png": "[encoded data removed]",
      "text/plain": [
       "<Figure size 432x288 with 1 Axes>"
      ]
     },
     "metadata": {
      "needs_background": "light"
     },
     "output_type": "display_data"
    }
   ],
   "source": [
    "sns.histplot(x='Total',data=df,kde=True,hue='Payment',multiple='stack')\n",
    "plt.show()"
   ]
  },
  {
   "cell_type": "markdown",
   "id": "3501885b",
   "metadata": {
    "id": "3501885b"
   },
   "source": [
    "Make it a step/poly plot using ELEMENT arguement and change the FILL*"
   ]
  },
  {
   "cell_type": "code",
   "execution_count": 7,
   "id": "60c87b2c",
   "metadata": {
    "colab": {
     "base_uri": "https://localhost:8080/",
     "height": 279
    },
    "executionInfo": {
     "elapsed": 789,
     "status": "ok",
     "timestamp": 1639316494859,
     "user": {
      "displayName": "Shreyash Patil",
      "photoUrl": "https://lh3.googleusercontent.com/a/default-user=s64",
      "userId": "02802002707017202305"
     },
     "user_tz": -330
    },
    "id": "60c87b2c",
    "outputId": "cff6be03-1f92-46df-8193-245865a98dc1"
   },
   "outputs": [
    {
     "data": {
      "image/png": "[encoded data removed]",
      "text/plain": [
       "<Figure size 432x288 with 1 Axes>"
      ]
     },
     "metadata": {
      "needs_background": "light"
     },
     "output_type": "display_data"
    }
   ],
   "source": [
    "sns.histplot(x='Total',data=df,kde=True,element='poly')\n",
    "plt.show()"
   ]
  },
  {
   "cell_type": "markdown",
   "id": "f1c7f05a",
   "metadata": {
    "id": "f1c7f05a"
   },
   "source": [
    "Use categorical variable and shrink it"
   ]
  },
  {
   "cell_type": "code",
   "execution_count": 8,
   "id": "5cf84ca0",
   "metadata": {
    "colab": {
     "base_uri": "https://localhost:8080/",
     "height": 279
    },
    "executionInfo": {
     "elapsed": 690,
     "status": "ok",
     "timestamp": 1639316502671,
     "user": {
      "displayName": "Shreyash Patil",
      "photoUrl": "https://lh3.googleusercontent.com/a/default-user=s64",
      "userId": "02802002707017202305"
     },
     "user_tz": -330
    },
    "id": "5cf84ca0",
    "outputId": "82c9ef15-6312-405e-fd02-598218cc003e"
   },
   "outputs": [
    {
     "data": {
      "image/png": "[encoded data removed]",
      "text/plain": [
       "<Figure size 432x288 with 1 Axes>"
      ]
     },
     "metadata": {
      "needs_background": "light"
     },
     "output_type": "display_data"
    }
   ],
   "source": [
    "sns.histplot(x='Total',data=df,kde=True,shrink=0.6)\n",
    "plt.show()"
   ]
  },
  {
   "cell_type": "markdown",
   "id": "191132dd",
   "metadata": {
    "id": "191132dd"
   },
   "source": [
    "\n",
    "\n",
    "```\n",
    "# This is formatted as code\n",
    "```\n",
    "\n",
    "Create a Bivariate Histogram"
   ]
  },
  {
   "cell_type": "code",
   "execution_count": null,
   "id": "53ffceb1",
   "metadata": {
    "id": "53ffceb1"
   },
   "outputs": [],
   "source": []
  },
  {
   "cell_type": "code",
   "execution_count": null,
   "id": "a243757b",
   "metadata": {
    "id": "a243757b"
   },
   "outputs": [],
   "source": []
  }
 ],
 "metadata": {
  "colab": {
   "collapsed_sections": [],
   "name": "8-HISTPLOT.ipynb",
   "provenance": []
  },
  "kernelspec": {
   "display_name": "Python 3",
   "language": "python",
   "name": "python3"
  },
  "language_info": {
   "codemirror_mode": {
    "name": "ipython",
    "version": 3
   },
   "file_extension": ".py",
   "mimetype": "text/x-python",
   "name": "python",
   "nbconvert_exporter": "python",
   "pygments_lexer": "ipython3",
   "version": "3.8.8"
  }
 },
 "nbformat": 4,
 "nbformat_minor": 5
}
